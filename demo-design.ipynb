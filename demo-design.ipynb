{
 "cells": [
  {
   "cell_type": "code",
   "execution_count": 1,
   "id": "1c6d0829-f728-4f86-8418-c3462e0c34c9",
   "metadata": {},
   "outputs": [],
   "source": [
    "import pandas as pd\n",
    "import numpy as np"
   ]
  },
  {
   "cell_type": "code",
   "execution_count": 2,
   "id": "4252dd7e-d663-40cf-b56c-8206ea899230",
   "metadata": {},
   "outputs": [],
   "source": [
    "df = pd.read_csv(\"data/demo_distance.csv\")"
   ]
  },
  {
   "cell_type": "code",
   "execution_count": 3,
   "id": "31aca365-35c0-4a78-9be8-8511b0ad9f85",
   "metadata": {},
   "outputs": [
    {
     "data": {
      "text/html": [
       "<div>\n",
       "<style scoped>\n",
       "    .dataframe tbody tr th:only-of-type {\n",
       "        vertical-align: middle;\n",
       "    }\n",
       "\n",
       "    .dataframe tbody tr th {\n",
       "        vertical-align: top;\n",
       "    }\n",
       "\n",
       "    .dataframe thead th {\n",
       "        text-align: right;\n",
       "    }\n",
       "</style>\n",
       "<table border=\"1\" class=\"dataframe\">\n",
       "  <thead>\n",
       "    <tr style=\"text-align: right;\">\n",
       "      <th></th>\n",
       "      <th>poll_lat</th>\n",
       "      <th>poll_lon</th>\n",
       "      <th>p116170_min_dist</th>\n",
       "      <th>p125829_min_dist</th>\n",
       "    </tr>\n",
       "    <tr>\n",
       "      <th>poll_id</th>\n",
       "      <th></th>\n",
       "      <th></th>\n",
       "      <th></th>\n",
       "      <th></th>\n",
       "    </tr>\n",
       "  </thead>\n",
       "  <tbody>\n",
       "    <tr>\n",
       "      <th>362725</th>\n",
       "      <td>-23.547403</td>\n",
       "      <td>-46.300659</td>\n",
       "      <td>34.172744</td>\n",
       "      <td>41.607432</td>\n",
       "    </tr>\n",
       "    <tr>\n",
       "      <th>583653</th>\n",
       "      <td>-23.547369</td>\n",
       "      <td>-46.358326</td>\n",
       "      <td>28.298120</td>\n",
       "      <td>37.446734</td>\n",
       "    </tr>\n",
       "  </tbody>\n",
       "</table>\n",
       "</div>"
      ],
      "text/plain": [
       "          poll_lat   poll_lon  p116170_min_dist  p125829_min_dist\n",
       "poll_id                                                          \n",
       "362725  -23.547403 -46.300659         34.172744         41.607432\n",
       "583653  -23.547369 -46.358326         28.298120         37.446734"
      ]
     },
     "execution_count": 3,
     "metadata": {},
     "output_type": "execute_result"
    }
   ],
   "source": [
    "min_dist_df = df.pivot_table(\n",
    "    index=[\"poll_id\", \"poll_lat\", \"poll_lon\"],\n",
    "    columns=\"aid_id\",\n",
    "    values=\"haversine\",\n",
    "    aggfunc=np.min,\n",
    ").rename(columns=lambda col: f\"{col}_min_dist\")\n",
    "\n",
    "min_dist_df.reset_index().rename_axis(None, axis=1).set_index(\"poll_id\")"
   ]
  },
  {
   "cell_type": "code",
   "execution_count": 4,
   "id": "e4e0ec2a-979e-412b-8292-4fdce60d7bee",
   "metadata": {},
   "outputs": [
    {
     "data": {
      "text/html": [
       "<div>\n",
       "<style scoped>\n",
       "    .dataframe tbody tr th:only-of-type {\n",
       "        vertical-align: middle;\n",
       "    }\n",
       "\n",
       "    .dataframe tbody tr th {\n",
       "        vertical-align: top;\n",
       "    }\n",
       "\n",
       "    .dataframe thead th {\n",
       "        text-align: right;\n",
       "    }\n",
       "</style>\n",
       "<table border=\"1\" class=\"dataframe\">\n",
       "  <thead>\n",
       "    <tr style=\"text-align: right;\">\n",
       "      <th></th>\n",
       "      <th>poll_lat</th>\n",
       "      <th>poll_lon</th>\n",
       "      <th>p116170_count</th>\n",
       "      <th>p125829_count</th>\n",
       "    </tr>\n",
       "    <tr>\n",
       "      <th>poll_id</th>\n",
       "      <th></th>\n",
       "      <th></th>\n",
       "      <th></th>\n",
       "      <th></th>\n",
       "    </tr>\n",
       "  </thead>\n",
       "  <tbody>\n",
       "    <tr>\n",
       "      <th>362725</th>\n",
       "      <td>-23.547403</td>\n",
       "      <td>-46.300659</td>\n",
       "      <td>2</td>\n",
       "      <td>2</td>\n",
       "    </tr>\n",
       "    <tr>\n",
       "      <th>583653</th>\n",
       "      <td>-23.547369</td>\n",
       "      <td>-46.358326</td>\n",
       "      <td>3</td>\n",
       "      <td>2</td>\n",
       "    </tr>\n",
       "  </tbody>\n",
       "</table>\n",
       "</div>"
      ],
      "text/plain": [
       "          poll_lat   poll_lon  p116170_count  p125829_count\n",
       "poll_id                                                    \n",
       "362725  -23.547403 -46.300659              2              2\n",
       "583653  -23.547369 -46.358326              3              2"
      ]
     },
     "execution_count": 4,
     "metadata": {},
     "output_type": "execute_result"
    }
   ],
   "source": [
    "count_df = (\n",
    "    df.loc[lambda df_: df_[\"haversine\"] <= 60]\n",
    "    .pivot_table(\n",
    "        index=[\"poll_id\", \"poll_lat\", \"poll_lon\"],\n",
    "        columns=\"aid_id\",\n",
    "        values=\"haversine\",\n",
    "        aggfunc=len,\n",
    "    )\n",
    "    .rename(columns=lambda col: f\"{col}_count\")\n",
    "    # polling locations are generally not close enough to all aid locations\n",
    "    .fillna(0)\n",
    ")\n",
    "\n",
    "count_df.reset_index().rename_axis(None, axis=1).set_index(\"poll_id\")"
   ]
  },
  {
   "cell_type": "code",
   "execution_count": 5,
   "id": "1826dfc7-31d0-4d5d-99f2-f4d7a7e4fa21",
   "metadata": {},
   "outputs": [
    {
     "data": {
      "text/html": [
       "<div>\n",
       "<style scoped>\n",
       "    .dataframe tbody tr th:only-of-type {\n",
       "        vertical-align: middle;\n",
       "    }\n",
       "\n",
       "    .dataframe tbody tr th {\n",
       "        vertical-align: top;\n",
       "    }\n",
       "\n",
       "    .dataframe thead th {\n",
       "        text-align: right;\n",
       "    }\n",
       "</style>\n",
       "<table border=\"1\" class=\"dataframe\">\n",
       "  <thead>\n",
       "    <tr style=\"text-align: right;\">\n",
       "      <th></th>\n",
       "      <th>poll_lat</th>\n",
       "      <th>poll_lon</th>\n",
       "      <th>p116170_min_dist</th>\n",
       "      <th>p125829_min_dist</th>\n",
       "      <th>p116170_count</th>\n",
       "      <th>p125829_count</th>\n",
       "    </tr>\n",
       "    <tr>\n",
       "      <th>poll_id</th>\n",
       "      <th></th>\n",
       "      <th></th>\n",
       "      <th></th>\n",
       "      <th></th>\n",
       "      <th></th>\n",
       "      <th></th>\n",
       "    </tr>\n",
       "  </thead>\n",
       "  <tbody>\n",
       "    <tr>\n",
       "      <th>362725</th>\n",
       "      <td>-23.547403</td>\n",
       "      <td>-46.300659</td>\n",
       "      <td>34.172744</td>\n",
       "      <td>41.607432</td>\n",
       "      <td>2</td>\n",
       "      <td>2</td>\n",
       "    </tr>\n",
       "    <tr>\n",
       "      <th>583653</th>\n",
       "      <td>-23.547369</td>\n",
       "      <td>-46.358326</td>\n",
       "      <td>28.298120</td>\n",
       "      <td>37.446734</td>\n",
       "      <td>3</td>\n",
       "      <td>2</td>\n",
       "    </tr>\n",
       "  </tbody>\n",
       "</table>\n",
       "</div>"
      ],
      "text/plain": [
       "          poll_lat   poll_lon  p116170_min_dist  p125829_min_dist  \\\n",
       "poll_id                                                             \n",
       "362725  -23.547403 -46.300659         34.172744         41.607432   \n",
       "583653  -23.547369 -46.358326         28.298120         37.446734   \n",
       "\n",
       "         p116170_count  p125829_count  \n",
       "poll_id                                \n",
       "362725               2              2  \n",
       "583653               3              2  "
      ]
     },
     "execution_count": 5,
     "metadata": {},
     "output_type": "execute_result"
    }
   ],
   "source": [
    "agg_df = (\n",
    "    pd.concat([min_dist_df, count_df], axis=\"columns\")\n",
    "    # some polling stations are not close enough to any aid locations\n",
    "    .fillna(0)\n",
    ")\n",
    "\n",
    "agg_df.reset_index().rename_axis(None, axis=1).set_index(\"poll_id\")"
   ]
  },
  {
   "cell_type": "code",
   "execution_count": 6,
   "id": "035dd2c1-cc91-437b-97c3-85f1ca06846e",
   "metadata": {},
   "outputs": [],
   "source": [
    "agg_df.to_csv(\"data/demo_design.csv\")"
   ]
  }
 ],
 "metadata": {
  "kernelspec": {
   "display_name": "Python 3 (ipykernel)",
   "language": "python",
   "name": "python3"
  },
  "language_info": {
   "codemirror_mode": {
    "name": "ipython",
    "version": 3
   },
   "file_extension": ".py",
   "mimetype": "text/x-python",
   "name": "python",
   "nbconvert_exporter": "python",
   "pygments_lexer": "ipython3",
   "version": "3.10.5"
  }
 },
 "nbformat": 4,
 "nbformat_minor": 5
}
